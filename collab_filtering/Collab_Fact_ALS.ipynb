{
 "cells": [
  {
   "cell_type": "code",
   "execution_count": 1,
   "id": "e848a182",
   "metadata": {},
   "outputs": [],
   "source": [
    "import pandas as pd\n",
    "import numpy as np\n",
    "\n",
    "import matplotlib.pyplot as plt\n",
    "import seaborn as sns"
   ]
  },
  {
   "cell_type": "code",
   "execution_count": 2,
   "id": "74736e50",
   "metadata": {},
   "outputs": [],
   "source": [
    "import matplotlib as mlp\n",
    "\n",
    "mlp.rcParams['lines.linewidth'] = 2\n",
    "\n",
    "mlp.rcParams['xtick.major.size'] = 15\n",
    "mlp.rcParams['xtick.major.width'] = 2\n",
    "mlp.rcParams['xtick.labelsize'] = 15\n",
    "mlp.rcParams['xtick.color'] = '#4DFC2D'\n",
    "\n",
    "mlp.rcParams['ytick.major.size'] = 15\n",
    "mlp.rcParams['ytick.major.width'] = 2\n",
    "mlp.rcParams['ytick.labelsize'] = 15\n",
    "mlp.rcParams['ytick.color'] = '#4DFC2D'\n",
    "\n",
    "mlp.rcParams['axes.labelsize'] = 15\n",
    "mlp.rcParams['axes.titlesize'] = 20\n",
    "mlp.rcParams['axes.titlecolor'] = '#ED6919'\n",
    "mlp.rcParams['axes.labelcolor'] = '#ED6919'"
   ]
  },
  {
   "cell_type": "code",
   "execution_count": 3,
   "id": "6b89fbed",
   "metadata": {},
   "outputs": [
    {
     "data": {
      "text/html": [
       "<div>\n",
       "<style scoped>\n",
       "    .dataframe tbody tr th:only-of-type {\n",
       "        vertical-align: middle;\n",
       "    }\n",
       "\n",
       "    .dataframe tbody tr th {\n",
       "        vertical-align: top;\n",
       "    }\n",
       "\n",
       "    .dataframe thead th {\n",
       "        text-align: right;\n",
       "    }\n",
       "</style>\n",
       "<table border=\"1\" class=\"dataframe\">\n",
       "  <thead>\n",
       "    <tr style=\"text-align: right;\">\n",
       "      <th></th>\n",
       "      <th>movieId</th>\n",
       "      <th>title</th>\n",
       "      <th>genres</th>\n",
       "    </tr>\n",
       "  </thead>\n",
       "  <tbody>\n",
       "    <tr>\n",
       "      <th>0</th>\n",
       "      <td>1</td>\n",
       "      <td>Toy Story (1995)</td>\n",
       "      <td>Adventure|Animation|Children|Comedy|Fantasy</td>\n",
       "    </tr>\n",
       "    <tr>\n",
       "      <th>1</th>\n",
       "      <td>2</td>\n",
       "      <td>Jumanji (1995)</td>\n",
       "      <td>Adventure|Children|Fantasy</td>\n",
       "    </tr>\n",
       "    <tr>\n",
       "      <th>2</th>\n",
       "      <td>3</td>\n",
       "      <td>Grumpier Old Men (1995)</td>\n",
       "      <td>Comedy|Romance</td>\n",
       "    </tr>\n",
       "    <tr>\n",
       "      <th>3</th>\n",
       "      <td>4</td>\n",
       "      <td>Waiting to Exhale (1995)</td>\n",
       "      <td>Comedy|Drama|Romance</td>\n",
       "    </tr>\n",
       "    <tr>\n",
       "      <th>4</th>\n",
       "      <td>5</td>\n",
       "      <td>Father of the Bride Part II (1995)</td>\n",
       "      <td>Comedy</td>\n",
       "    </tr>\n",
       "  </tbody>\n",
       "</table>\n",
       "</div>"
      ],
      "text/plain": [
       "   movieId                               title  \\\n",
       "0        1                    Toy Story (1995)   \n",
       "1        2                      Jumanji (1995)   \n",
       "2        3             Grumpier Old Men (1995)   \n",
       "3        4            Waiting to Exhale (1995)   \n",
       "4        5  Father of the Bride Part II (1995)   \n",
       "\n",
       "                                        genres  \n",
       "0  Adventure|Animation|Children|Comedy|Fantasy  \n",
       "1                   Adventure|Children|Fantasy  \n",
       "2                               Comedy|Romance  \n",
       "3                         Comedy|Drama|Romance  \n",
       "4                                       Comedy  "
      ]
     },
     "execution_count": 3,
     "metadata": {},
     "output_type": "execute_result"
    }
   ],
   "source": [
    "movies = pd.read_csv('movies.csv')\n",
    "\n",
    "movies.head()"
   ]
  },
  {
   "cell_type": "code",
   "execution_count": 4,
   "id": "b6cc7919",
   "metadata": {},
   "outputs": [
    {
     "data": {
      "text/html": [
       "<div>\n",
       "<style scoped>\n",
       "    .dataframe tbody tr th:only-of-type {\n",
       "        vertical-align: middle;\n",
       "    }\n",
       "\n",
       "    .dataframe tbody tr th {\n",
       "        vertical-align: top;\n",
       "    }\n",
       "\n",
       "    .dataframe thead th {\n",
       "        text-align: right;\n",
       "    }\n",
       "</style>\n",
       "<table border=\"1\" class=\"dataframe\">\n",
       "  <thead>\n",
       "    <tr style=\"text-align: right;\">\n",
       "      <th></th>\n",
       "      <th>userId</th>\n",
       "      <th>movieId</th>\n",
       "      <th>rating</th>\n",
       "      <th>timestamp</th>\n",
       "    </tr>\n",
       "  </thead>\n",
       "  <tbody>\n",
       "    <tr>\n",
       "      <th>0</th>\n",
       "      <td>1</td>\n",
       "      <td>1</td>\n",
       "      <td>4.0</td>\n",
       "      <td>964982703</td>\n",
       "    </tr>\n",
       "    <tr>\n",
       "      <th>1</th>\n",
       "      <td>1</td>\n",
       "      <td>3</td>\n",
       "      <td>4.0</td>\n",
       "      <td>964981247</td>\n",
       "    </tr>\n",
       "    <tr>\n",
       "      <th>2</th>\n",
       "      <td>1</td>\n",
       "      <td>6</td>\n",
       "      <td>4.0</td>\n",
       "      <td>964982224</td>\n",
       "    </tr>\n",
       "    <tr>\n",
       "      <th>3</th>\n",
       "      <td>1</td>\n",
       "      <td>47</td>\n",
       "      <td>5.0</td>\n",
       "      <td>964983815</td>\n",
       "    </tr>\n",
       "    <tr>\n",
       "      <th>4</th>\n",
       "      <td>1</td>\n",
       "      <td>50</td>\n",
       "      <td>5.0</td>\n",
       "      <td>964982931</td>\n",
       "    </tr>\n",
       "  </tbody>\n",
       "</table>\n",
       "</div>"
      ],
      "text/plain": [
       "   userId  movieId  rating  timestamp\n",
       "0       1        1     4.0  964982703\n",
       "1       1        3     4.0  964981247\n",
       "2       1        6     4.0  964982224\n",
       "3       1       47     5.0  964983815\n",
       "4       1       50     5.0  964982931"
      ]
     },
     "execution_count": 4,
     "metadata": {},
     "output_type": "execute_result"
    }
   ],
   "source": [
    "ratings = pd.read_csv('ratings.csv')\n",
    "\n",
    "ratings.head()"
   ]
  },
  {
   "cell_type": "code",
   "execution_count": 5,
   "id": "29e70f40",
   "metadata": {},
   "outputs": [],
   "source": [
    "# Split to train and validation\n",
    "ratings = ratings.sort_values(by='timestamp', ascending=True)\n",
    "\n",
    "train = ratings.iloc[:-20000]\n",
    "test = ratings.iloc[-20000:]"
   ]
  },
  {
   "cell_type": "code",
   "execution_count": 6,
   "id": "64b83516",
   "metadata": {},
   "outputs": [
    {
     "data": {
      "text/plain": [
       "True"
      ]
     },
     "execution_count": 6,
     "metadata": {},
     "output_type": "execute_result"
    }
   ],
   "source": [
    "# Double-check\n",
    "train.timestamp.max() <= test.timestamp.min()"
   ]
  },
  {
   "cell_type": "markdown",
   "id": "be02c910",
   "metadata": {},
   "source": [
    "#### User-based collaborative filtering"
   ]
  },
  {
   "cell_type": "markdown",
   "id": "b5fcac48",
   "metadata": {},
   "source": [
    "1) $$ rating(user_k, item_m) = r_k^{mean} + \\frac{\\sum_{user_i \\in U(user_k)}{(r_{user_i}(item_m) - r_{user_i}^{mean}) \\cdot sim(user_k, user_i)}}{\\sum_{user_i \\in U(user_k)}{|sim(user_k, user_i)|}}$$\n",
    "\n",
    "2) $$ rating(user_k, item_m) = \\frac{\\sum_{user_i \\in U(user_k)}{r_{user_i}(item_m) \\cdot sim(user_k, user_i)}}{\\sum_{user_i \\in U(user_k)}{|sim(user_k, user_i)|}}$$"
   ]
  },
  {
   "cell_type": "code",
   "execution_count": 37,
   "id": "60b0ff4f",
   "metadata": {},
   "outputs": [
    {
     "data": {
      "text/html": [
       "<div>\n",
       "<style scoped>\n",
       "    .dataframe tbody tr th:only-of-type {\n",
       "        vertical-align: middle;\n",
       "    }\n",
       "\n",
       "    .dataframe tbody tr th {\n",
       "        vertical-align: top;\n",
       "    }\n",
       "\n",
       "    .dataframe thead th {\n",
       "        text-align: right;\n",
       "    }\n",
       "</style>\n",
       "<table border=\"1\" class=\"dataframe\">\n",
       "  <thead>\n",
       "    <tr style=\"text-align: right;\">\n",
       "      <th>userId</th>\n",
       "      <th>1</th>\n",
       "      <th>2</th>\n",
       "      <th>3</th>\n",
       "      <th>4</th>\n",
       "      <th>5</th>\n",
       "      <th>6</th>\n",
       "      <th>7</th>\n",
       "      <th>8</th>\n",
       "      <th>9</th>\n",
       "      <th>10</th>\n",
       "      <th>...</th>\n",
       "      <th>600</th>\n",
       "      <th>601</th>\n",
       "      <th>602</th>\n",
       "      <th>603</th>\n",
       "      <th>604</th>\n",
       "      <th>605</th>\n",
       "      <th>606</th>\n",
       "      <th>607</th>\n",
       "      <th>608</th>\n",
       "      <th>609</th>\n",
       "    </tr>\n",
       "    <tr>\n",
       "      <th>movieId</th>\n",
       "      <th></th>\n",
       "      <th></th>\n",
       "      <th></th>\n",
       "      <th></th>\n",
       "      <th></th>\n",
       "      <th></th>\n",
       "      <th></th>\n",
       "      <th></th>\n",
       "      <th></th>\n",
       "      <th></th>\n",
       "      <th></th>\n",
       "      <th></th>\n",
       "      <th></th>\n",
       "      <th></th>\n",
       "      <th></th>\n",
       "      <th></th>\n",
       "      <th></th>\n",
       "      <th></th>\n",
       "      <th></th>\n",
       "      <th></th>\n",
       "      <th></th>\n",
       "    </tr>\n",
       "  </thead>\n",
       "  <tbody>\n",
       "    <tr>\n",
       "      <th>1</th>\n",
       "      <td>4.0</td>\n",
       "      <td>NaN</td>\n",
       "      <td>NaN</td>\n",
       "      <td>NaN</td>\n",
       "      <td>4.0</td>\n",
       "      <td>NaN</td>\n",
       "      <td>4.5</td>\n",
       "      <td>NaN</td>\n",
       "      <td>NaN</td>\n",
       "      <td>NaN</td>\n",
       "      <td>...</td>\n",
       "      <td>2.5</td>\n",
       "      <td>NaN</td>\n",
       "      <td>NaN</td>\n",
       "      <td>4.0</td>\n",
       "      <td>3.0</td>\n",
       "      <td>4.0</td>\n",
       "      <td>2.5</td>\n",
       "      <td>4.0</td>\n",
       "      <td>2.5</td>\n",
       "      <td>3.0</td>\n",
       "    </tr>\n",
       "    <tr>\n",
       "      <th>2</th>\n",
       "      <td>NaN</td>\n",
       "      <td>NaN</td>\n",
       "      <td>NaN</td>\n",
       "      <td>NaN</td>\n",
       "      <td>NaN</td>\n",
       "      <td>4.0</td>\n",
       "      <td>NaN</td>\n",
       "      <td>4.0</td>\n",
       "      <td>NaN</td>\n",
       "      <td>NaN</td>\n",
       "      <td>...</td>\n",
       "      <td>4.0</td>\n",
       "      <td>NaN</td>\n",
       "      <td>4.0</td>\n",
       "      <td>NaN</td>\n",
       "      <td>5.0</td>\n",
       "      <td>3.5</td>\n",
       "      <td>NaN</td>\n",
       "      <td>NaN</td>\n",
       "      <td>2.0</td>\n",
       "      <td>NaN</td>\n",
       "    </tr>\n",
       "    <tr>\n",
       "      <th>3</th>\n",
       "      <td>4.0</td>\n",
       "      <td>NaN</td>\n",
       "      <td>NaN</td>\n",
       "      <td>NaN</td>\n",
       "      <td>NaN</td>\n",
       "      <td>5.0</td>\n",
       "      <td>NaN</td>\n",
       "      <td>NaN</td>\n",
       "      <td>NaN</td>\n",
       "      <td>NaN</td>\n",
       "      <td>...</td>\n",
       "      <td>NaN</td>\n",
       "      <td>NaN</td>\n",
       "      <td>NaN</td>\n",
       "      <td>NaN</td>\n",
       "      <td>NaN</td>\n",
       "      <td>NaN</td>\n",
       "      <td>NaN</td>\n",
       "      <td>NaN</td>\n",
       "      <td>2.0</td>\n",
       "      <td>NaN</td>\n",
       "    </tr>\n",
       "    <tr>\n",
       "      <th>4</th>\n",
       "      <td>NaN</td>\n",
       "      <td>NaN</td>\n",
       "      <td>NaN</td>\n",
       "      <td>NaN</td>\n",
       "      <td>NaN</td>\n",
       "      <td>3.0</td>\n",
       "      <td>NaN</td>\n",
       "      <td>NaN</td>\n",
       "      <td>NaN</td>\n",
       "      <td>NaN</td>\n",
       "      <td>...</td>\n",
       "      <td>1.5</td>\n",
       "      <td>NaN</td>\n",
       "      <td>NaN</td>\n",
       "      <td>NaN</td>\n",
       "      <td>NaN</td>\n",
       "      <td>NaN</td>\n",
       "      <td>NaN</td>\n",
       "      <td>NaN</td>\n",
       "      <td>NaN</td>\n",
       "      <td>NaN</td>\n",
       "    </tr>\n",
       "    <tr>\n",
       "      <th>5</th>\n",
       "      <td>NaN</td>\n",
       "      <td>NaN</td>\n",
       "      <td>NaN</td>\n",
       "      <td>NaN</td>\n",
       "      <td>NaN</td>\n",
       "      <td>5.0</td>\n",
       "      <td>NaN</td>\n",
       "      <td>NaN</td>\n",
       "      <td>NaN</td>\n",
       "      <td>NaN</td>\n",
       "      <td>...</td>\n",
       "      <td>2.5</td>\n",
       "      <td>NaN</td>\n",
       "      <td>NaN</td>\n",
       "      <td>NaN</td>\n",
       "      <td>3.0</td>\n",
       "      <td>NaN</td>\n",
       "      <td>NaN</td>\n",
       "      <td>NaN</td>\n",
       "      <td>NaN</td>\n",
       "      <td>NaN</td>\n",
       "    </tr>\n",
       "  </tbody>\n",
       "</table>\n",
       "<p>5 rows × 522 columns</p>\n",
       "</div>"
      ],
      "text/plain": [
       "userId   1    2    3    4    5    6    7    8    9    10   ...  600  601  602  \\\n",
       "movieId                                                    ...                  \n",
       "1        4.0  NaN  NaN  NaN  4.0  NaN  4.5  NaN  NaN  NaN  ...  2.5  NaN  NaN   \n",
       "2        NaN  NaN  NaN  NaN  NaN  4.0  NaN  4.0  NaN  NaN  ...  4.0  NaN  4.0   \n",
       "3        4.0  NaN  NaN  NaN  NaN  5.0  NaN  NaN  NaN  NaN  ...  NaN  NaN  NaN   \n",
       "4        NaN  NaN  NaN  NaN  NaN  3.0  NaN  NaN  NaN  NaN  ...  1.5  NaN  NaN   \n",
       "5        NaN  NaN  NaN  NaN  NaN  5.0  NaN  NaN  NaN  NaN  ...  2.5  NaN  NaN   \n",
       "\n",
       "userId   603  604  605  606  607  608  609  \n",
       "movieId                                     \n",
       "1        4.0  3.0  4.0  2.5  4.0  2.5  3.0  \n",
       "2        NaN  5.0  3.5  NaN  NaN  2.0  NaN  \n",
       "3        NaN  NaN  NaN  NaN  NaN  2.0  NaN  \n",
       "4        NaN  NaN  NaN  NaN  NaN  NaN  NaN  \n",
       "5        NaN  3.0  NaN  NaN  NaN  NaN  NaN  \n",
       "\n",
       "[5 rows x 522 columns]"
      ]
     },
     "execution_count": 37,
     "metadata": {},
     "output_type": "execute_result"
    }
   ],
   "source": [
    "pivot = train.pivot_table(index='movieId', columns='userId', values='rating')\n",
    "# pivot = pivot.astype(pd.SparseDtype(\"float64\",0))\n",
    "\n",
    "pivot.head()"
   ]
  },
  {
   "cell_type": "code",
   "execution_count": 29,
   "id": "32420bbf",
   "metadata": {
    "scrolled": true
   },
   "outputs": [
    {
     "data": {
      "text/plain": [
       "(7867, 522)"
      ]
     },
     "execution_count": 29,
     "metadata": {},
     "output_type": "execute_result"
    }
   ],
   "source": [
    "pivot.shape"
   ]
  },
  {
   "cell_type": "code",
   "execution_count": 33,
   "id": "c7040e63",
   "metadata": {},
   "outputs": [
    {
     "data": {
      "text/plain": [
       "(7867, 522)"
      ]
     },
     "execution_count": 33,
     "metadata": {},
     "output_type": "execute_result"
    }
   ],
   "source": [
    "# pivot = pivot.sparse.to_coo().tocsr()\n",
    "\n",
    "# pivot.shape"
   ]
  },
  {
   "cell_type": "code",
   "execution_count": 22,
   "id": "4167afed",
   "metadata": {},
   "outputs": [],
   "source": [
    "# from scipy.sparse import csr_matrix\n",
    "\n",
    "# pivot = csr_matrix(pivot.values)\n",
    "\n",
    "# pivot.shape"
   ]
  },
  {
   "cell_type": "code",
   "execution_count": 38,
   "id": "57eef0ef",
   "metadata": {},
   "outputs": [
    {
     "data": {
      "text/html": [
       "<div>\n",
       "<style scoped>\n",
       "    .dataframe tbody tr th:only-of-type {\n",
       "        vertical-align: middle;\n",
       "    }\n",
       "\n",
       "    .dataframe tbody tr th {\n",
       "        vertical-align: top;\n",
       "    }\n",
       "\n",
       "    .dataframe thead th {\n",
       "        text-align: right;\n",
       "    }\n",
       "</style>\n",
       "<table border=\"1\" class=\"dataframe\">\n",
       "  <thead>\n",
       "    <tr style=\"text-align: right;\">\n",
       "      <th>userId</th>\n",
       "      <th>1</th>\n",
       "      <th>2</th>\n",
       "      <th>3</th>\n",
       "      <th>4</th>\n",
       "      <th>5</th>\n",
       "      <th>6</th>\n",
       "      <th>7</th>\n",
       "      <th>8</th>\n",
       "      <th>9</th>\n",
       "      <th>10</th>\n",
       "      <th>...</th>\n",
       "      <th>600</th>\n",
       "      <th>601</th>\n",
       "      <th>602</th>\n",
       "      <th>603</th>\n",
       "      <th>604</th>\n",
       "      <th>605</th>\n",
       "      <th>606</th>\n",
       "      <th>607</th>\n",
       "      <th>608</th>\n",
       "      <th>609</th>\n",
       "    </tr>\n",
       "    <tr>\n",
       "      <th>movieId</th>\n",
       "      <th></th>\n",
       "      <th></th>\n",
       "      <th></th>\n",
       "      <th></th>\n",
       "      <th></th>\n",
       "      <th></th>\n",
       "      <th></th>\n",
       "      <th></th>\n",
       "      <th></th>\n",
       "      <th></th>\n",
       "      <th></th>\n",
       "      <th></th>\n",
       "      <th></th>\n",
       "      <th></th>\n",
       "      <th></th>\n",
       "      <th></th>\n",
       "      <th></th>\n",
       "      <th></th>\n",
       "      <th></th>\n",
       "      <th></th>\n",
       "      <th></th>\n",
       "    </tr>\n",
       "  </thead>\n",
       "  <tbody>\n",
       "    <tr>\n",
       "      <th>1</th>\n",
       "      <td>0.076087</td>\n",
       "      <td>NaN</td>\n",
       "      <td>NaN</td>\n",
       "      <td>NaN</td>\n",
       "      <td>0.076087</td>\n",
       "      <td>NaN</td>\n",
       "      <td>0.576087</td>\n",
       "      <td>NaN</td>\n",
       "      <td>NaN</td>\n",
       "      <td>NaN</td>\n",
       "      <td>...</td>\n",
       "      <td>-1.423913</td>\n",
       "      <td>NaN</td>\n",
       "      <td>NaN</td>\n",
       "      <td>0.076087</td>\n",
       "      <td>-0.923913</td>\n",
       "      <td>0.076087</td>\n",
       "      <td>-1.423913</td>\n",
       "      <td>0.076087</td>\n",
       "      <td>-1.423913</td>\n",
       "      <td>-0.923913</td>\n",
       "    </tr>\n",
       "    <tr>\n",
       "      <th>2</th>\n",
       "      <td>NaN</td>\n",
       "      <td>NaN</td>\n",
       "      <td>NaN</td>\n",
       "      <td>NaN</td>\n",
       "      <td>NaN</td>\n",
       "      <td>0.600000</td>\n",
       "      <td>NaN</td>\n",
       "      <td>0.6</td>\n",
       "      <td>NaN</td>\n",
       "      <td>NaN</td>\n",
       "      <td>...</td>\n",
       "      <td>0.600000</td>\n",
       "      <td>NaN</td>\n",
       "      <td>0.6</td>\n",
       "      <td>NaN</td>\n",
       "      <td>1.600000</td>\n",
       "      <td>0.100000</td>\n",
       "      <td>NaN</td>\n",
       "      <td>NaN</td>\n",
       "      <td>-1.400000</td>\n",
       "      <td>NaN</td>\n",
       "    </tr>\n",
       "    <tr>\n",
       "      <th>3</th>\n",
       "      <td>0.705882</td>\n",
       "      <td>NaN</td>\n",
       "      <td>NaN</td>\n",
       "      <td>NaN</td>\n",
       "      <td>NaN</td>\n",
       "      <td>1.705882</td>\n",
       "      <td>NaN</td>\n",
       "      <td>NaN</td>\n",
       "      <td>NaN</td>\n",
       "      <td>NaN</td>\n",
       "      <td>...</td>\n",
       "      <td>NaN</td>\n",
       "      <td>NaN</td>\n",
       "      <td>NaN</td>\n",
       "      <td>NaN</td>\n",
       "      <td>NaN</td>\n",
       "      <td>NaN</td>\n",
       "      <td>NaN</td>\n",
       "      <td>NaN</td>\n",
       "      <td>-1.294118</td>\n",
       "      <td>NaN</td>\n",
       "    </tr>\n",
       "    <tr>\n",
       "      <th>4</th>\n",
       "      <td>NaN</td>\n",
       "      <td>NaN</td>\n",
       "      <td>NaN</td>\n",
       "      <td>NaN</td>\n",
       "      <td>NaN</td>\n",
       "      <td>0.642857</td>\n",
       "      <td>NaN</td>\n",
       "      <td>NaN</td>\n",
       "      <td>NaN</td>\n",
       "      <td>NaN</td>\n",
       "      <td>...</td>\n",
       "      <td>-0.857143</td>\n",
       "      <td>NaN</td>\n",
       "      <td>NaN</td>\n",
       "      <td>NaN</td>\n",
       "      <td>NaN</td>\n",
       "      <td>NaN</td>\n",
       "      <td>NaN</td>\n",
       "      <td>NaN</td>\n",
       "      <td>NaN</td>\n",
       "      <td>NaN</td>\n",
       "    </tr>\n",
       "    <tr>\n",
       "      <th>5</th>\n",
       "      <td>NaN</td>\n",
       "      <td>NaN</td>\n",
       "      <td>NaN</td>\n",
       "      <td>NaN</td>\n",
       "      <td>NaN</td>\n",
       "      <td>1.936170</td>\n",
       "      <td>NaN</td>\n",
       "      <td>NaN</td>\n",
       "      <td>NaN</td>\n",
       "      <td>NaN</td>\n",
       "      <td>...</td>\n",
       "      <td>-0.563830</td>\n",
       "      <td>NaN</td>\n",
       "      <td>NaN</td>\n",
       "      <td>NaN</td>\n",
       "      <td>-0.063830</td>\n",
       "      <td>NaN</td>\n",
       "      <td>NaN</td>\n",
       "      <td>NaN</td>\n",
       "      <td>NaN</td>\n",
       "      <td>NaN</td>\n",
       "    </tr>\n",
       "  </tbody>\n",
       "</table>\n",
       "<p>5 rows × 522 columns</p>\n",
       "</div>"
      ],
      "text/plain": [
       "userId        1    2    3    4         5         6         7    8    9    10   \\\n",
       "movieId                                                                         \n",
       "1        0.076087  NaN  NaN  NaN  0.076087       NaN  0.576087  NaN  NaN  NaN   \n",
       "2             NaN  NaN  NaN  NaN       NaN  0.600000       NaN  0.6  NaN  NaN   \n",
       "3        0.705882  NaN  NaN  NaN       NaN  1.705882       NaN  NaN  NaN  NaN   \n",
       "4             NaN  NaN  NaN  NaN       NaN  0.642857       NaN  NaN  NaN  NaN   \n",
       "5             NaN  NaN  NaN  NaN       NaN  1.936170       NaN  NaN  NaN  NaN   \n",
       "\n",
       "userId   ...       600  601  602       603       604       605       606  \\\n",
       "movieId  ...                                                               \n",
       "1        ... -1.423913  NaN  NaN  0.076087 -0.923913  0.076087 -1.423913   \n",
       "2        ...  0.600000  NaN  0.6       NaN  1.600000  0.100000       NaN   \n",
       "3        ...       NaN  NaN  NaN       NaN       NaN       NaN       NaN   \n",
       "4        ... -0.857143  NaN  NaN       NaN       NaN       NaN       NaN   \n",
       "5        ... -0.563830  NaN  NaN       NaN -0.063830       NaN       NaN   \n",
       "\n",
       "userId        607       608       609  \n",
       "movieId                                \n",
       "1        0.076087 -1.423913 -0.923913  \n",
       "2             NaN -1.400000       NaN  \n",
       "3             NaN -1.294118       NaN  \n",
       "4             NaN       NaN       NaN  \n",
       "5             NaN       NaN       NaN  \n",
       "\n",
       "[5 rows x 522 columns]"
      ]
     },
     "execution_count": 38,
     "metadata": {},
     "output_type": "execute_result"
    }
   ],
   "source": [
    "# Subtract mean user ratings to make users' ratings more similar\n",
    "pivot = pivot.subtract(pivot.mean(axis=1), axis='rows')\n",
    "\n",
    "pivot.head()"
   ]
  },
  {
   "cell_type": "code",
   "execution_count": 39,
   "id": "38929b69",
   "metadata": {},
   "outputs": [
    {
     "data": {
      "text/html": [
       "<div>\n",
       "<style scoped>\n",
       "    .dataframe tbody tr th:only-of-type {\n",
       "        vertical-align: middle;\n",
       "    }\n",
       "\n",
       "    .dataframe tbody tr th {\n",
       "        vertical-align: top;\n",
       "    }\n",
       "\n",
       "    .dataframe thead th {\n",
       "        text-align: right;\n",
       "    }\n",
       "</style>\n",
       "<table border=\"1\" class=\"dataframe\">\n",
       "  <thead>\n",
       "    <tr style=\"text-align: right;\">\n",
       "      <th>userId</th>\n",
       "      <th>1</th>\n",
       "      <th>2</th>\n",
       "      <th>3</th>\n",
       "      <th>4</th>\n",
       "      <th>5</th>\n",
       "      <th>6</th>\n",
       "      <th>7</th>\n",
       "      <th>8</th>\n",
       "      <th>9</th>\n",
       "      <th>10</th>\n",
       "      <th>...</th>\n",
       "      <th>600</th>\n",
       "      <th>601</th>\n",
       "      <th>602</th>\n",
       "      <th>603</th>\n",
       "      <th>604</th>\n",
       "      <th>605</th>\n",
       "      <th>606</th>\n",
       "      <th>607</th>\n",
       "      <th>608</th>\n",
       "      <th>609</th>\n",
       "    </tr>\n",
       "    <tr>\n",
       "      <th>userId</th>\n",
       "      <th></th>\n",
       "      <th></th>\n",
       "      <th></th>\n",
       "      <th></th>\n",
       "      <th></th>\n",
       "      <th></th>\n",
       "      <th></th>\n",
       "      <th></th>\n",
       "      <th></th>\n",
       "      <th></th>\n",
       "      <th></th>\n",
       "      <th></th>\n",
       "      <th></th>\n",
       "      <th></th>\n",
       "      <th></th>\n",
       "      <th></th>\n",
       "      <th></th>\n",
       "      <th></th>\n",
       "      <th></th>\n",
       "      <th></th>\n",
       "      <th></th>\n",
       "    </tr>\n",
       "  </thead>\n",
       "  <tbody>\n",
       "    <tr>\n",
       "      <th>1</th>\n",
       "      <td>1.000000</td>\n",
       "      <td>1.0</td>\n",
       "      <td>0.321429</td>\n",
       "      <td>0.235441</td>\n",
       "      <td>0.203297</td>\n",
       "      <td>-0.309492</td>\n",
       "      <td>-0.158291</td>\n",
       "      <td>0.457143</td>\n",
       "      <td>1.0</td>\n",
       "      <td>0.371429</td>\n",
       "      <td>...</td>\n",
       "      <td>0.042989</td>\n",
       "      <td>0.0</td>\n",
       "      <td>-0.054945</td>\n",
       "      <td>-0.159832</td>\n",
       "      <td>-0.335664</td>\n",
       "      <td>-0.200392</td>\n",
       "      <td>-0.052775</td>\n",
       "      <td>0.103087</td>\n",
       "      <td>-0.070424</td>\n",
       "      <td>0.350000</td>\n",
       "    </tr>\n",
       "    <tr>\n",
       "      <th>2</th>\n",
       "      <td>1.000000</td>\n",
       "      <td>1.0</td>\n",
       "      <td>NaN</td>\n",
       "      <td>NaN</td>\n",
       "      <td>NaN</td>\n",
       "      <td>1.000000</td>\n",
       "      <td>0.500000</td>\n",
       "      <td>NaN</td>\n",
       "      <td>NaN</td>\n",
       "      <td>0.100000</td>\n",
       "      <td>...</td>\n",
       "      <td>0.500000</td>\n",
       "      <td>0.5</td>\n",
       "      <td>NaN</td>\n",
       "      <td>-1.000000</td>\n",
       "      <td>NaN</td>\n",
       "      <td>NaN</td>\n",
       "      <td>0.700000</td>\n",
       "      <td>NaN</td>\n",
       "      <td>0.542857</td>\n",
       "      <td>NaN</td>\n",
       "    </tr>\n",
       "    <tr>\n",
       "      <th>3</th>\n",
       "      <td>0.321429</td>\n",
       "      <td>NaN</td>\n",
       "      <td>1.000000</td>\n",
       "      <td>NaN</td>\n",
       "      <td>NaN</td>\n",
       "      <td>0.500000</td>\n",
       "      <td>NaN</td>\n",
       "      <td>NaN</td>\n",
       "      <td>NaN</td>\n",
       "      <td>NaN</td>\n",
       "      <td>...</td>\n",
       "      <td>0.033333</td>\n",
       "      <td>NaN</td>\n",
       "      <td>-1.000000</td>\n",
       "      <td>0.183333</td>\n",
       "      <td>NaN</td>\n",
       "      <td>NaN</td>\n",
       "      <td>-0.547619</td>\n",
       "      <td>-0.200000</td>\n",
       "      <td>-0.100000</td>\n",
       "      <td>NaN</td>\n",
       "    </tr>\n",
       "    <tr>\n",
       "      <th>4</th>\n",
       "      <td>0.235441</td>\n",
       "      <td>NaN</td>\n",
       "      <td>NaN</td>\n",
       "      <td>1.000000</td>\n",
       "      <td>-0.650350</td>\n",
       "      <td>-0.071145</td>\n",
       "      <td>0.374365</td>\n",
       "      <td>-0.050000</td>\n",
       "      <td>NaN</td>\n",
       "      <td>0.483333</td>\n",
       "      <td>...</td>\n",
       "      <td>-0.015564</td>\n",
       "      <td>-0.4</td>\n",
       "      <td>0.265810</td>\n",
       "      <td>-0.042880</td>\n",
       "      <td>-0.166667</td>\n",
       "      <td>0.232353</td>\n",
       "      <td>0.039095</td>\n",
       "      <td>0.026108</td>\n",
       "      <td>-0.365302</td>\n",
       "      <td>0.500000</td>\n",
       "    </tr>\n",
       "    <tr>\n",
       "      <th>5</th>\n",
       "      <td>0.203297</td>\n",
       "      <td>NaN</td>\n",
       "      <td>NaN</td>\n",
       "      <td>-0.650350</td>\n",
       "      <td>1.000000</td>\n",
       "      <td>0.016988</td>\n",
       "      <td>0.033333</td>\n",
       "      <td>-0.242105</td>\n",
       "      <td>NaN</td>\n",
       "      <td>-0.500000</td>\n",
       "      <td>...</td>\n",
       "      <td>0.149973</td>\n",
       "      <td>1.0</td>\n",
       "      <td>0.052823</td>\n",
       "      <td>0.131538</td>\n",
       "      <td>-0.156140</td>\n",
       "      <td>-0.226374</td>\n",
       "      <td>0.055336</td>\n",
       "      <td>-0.100000</td>\n",
       "      <td>-0.201780</td>\n",
       "      <td>0.333333</td>\n",
       "    </tr>\n",
       "  </tbody>\n",
       "</table>\n",
       "<p>5 rows × 522 columns</p>\n",
       "</div>"
      ],
      "text/plain": [
       "userId       1    2         3         4         5         6         7    \\\n",
       "userId                                                                    \n",
       "1       1.000000  1.0  0.321429  0.235441  0.203297 -0.309492 -0.158291   \n",
       "2       1.000000  1.0       NaN       NaN       NaN  1.000000  0.500000   \n",
       "3       0.321429  NaN  1.000000       NaN       NaN  0.500000       NaN   \n",
       "4       0.235441  NaN       NaN  1.000000 -0.650350 -0.071145  0.374365   \n",
       "5       0.203297  NaN       NaN -0.650350  1.000000  0.016988  0.033333   \n",
       "\n",
       "userId       8    9         10   ...       600  601       602       603  \\\n",
       "userId                           ...                                      \n",
       "1       0.457143  1.0  0.371429  ...  0.042989  0.0 -0.054945 -0.159832   \n",
       "2            NaN  NaN  0.100000  ...  0.500000  0.5       NaN -1.000000   \n",
       "3            NaN  NaN       NaN  ...  0.033333  NaN -1.000000  0.183333   \n",
       "4      -0.050000  NaN  0.483333  ... -0.015564 -0.4  0.265810 -0.042880   \n",
       "5      -0.242105  NaN -0.500000  ...  0.149973  1.0  0.052823  0.131538   \n",
       "\n",
       "userId       604       605       606       607       608       609  \n",
       "userId                                                              \n",
       "1      -0.335664 -0.200392 -0.052775  0.103087 -0.070424  0.350000  \n",
       "2            NaN       NaN  0.700000       NaN  0.542857       NaN  \n",
       "3            NaN       NaN -0.547619 -0.200000 -0.100000       NaN  \n",
       "4      -0.166667  0.232353  0.039095  0.026108 -0.365302  0.500000  \n",
       "5      -0.156140 -0.226374  0.055336 -0.100000 -0.201780  0.333333  \n",
       "\n",
       "[5 rows x 522 columns]"
      ]
     },
     "execution_count": 39,
     "metadata": {},
     "output_type": "execute_result"
    }
   ],
   "source": [
    "# Use non-linear correlation do detect more complex similarities\n",
    "corrs = pivot.corr('spearman')\n",
    "\n",
    "# Or use Pearson (Cosine similarity) instead\n",
    "# corrs = pivot.corr()\n",
    "\n",
    "corrs.head()"
   ]
  },
  {
   "cell_type": "code",
   "execution_count": 40,
   "id": "78340a3e",
   "metadata": {},
   "outputs": [
    {
     "data": {
      "text/html": [
       "<div>\n",
       "<style scoped>\n",
       "    .dataframe tbody tr th:only-of-type {\n",
       "        vertical-align: middle;\n",
       "    }\n",
       "\n",
       "    .dataframe tbody tr th {\n",
       "        vertical-align: top;\n",
       "    }\n",
       "\n",
       "    .dataframe thead th {\n",
       "        text-align: right;\n",
       "    }\n",
       "</style>\n",
       "<table border=\"1\" class=\"dataframe\">\n",
       "  <thead>\n",
       "    <tr style=\"text-align: right;\">\n",
       "      <th></th>\n",
       "      <th>userId1</th>\n",
       "      <th>userId2</th>\n",
       "      <th>correlation</th>\n",
       "    </tr>\n",
       "  </thead>\n",
       "  <tbody>\n",
       "    <tr>\n",
       "      <th>0</th>\n",
       "      <td>1</td>\n",
       "      <td>1</td>\n",
       "      <td>1.000000</td>\n",
       "    </tr>\n",
       "    <tr>\n",
       "      <th>1</th>\n",
       "      <td>1</td>\n",
       "      <td>2</td>\n",
       "      <td>1.000000</td>\n",
       "    </tr>\n",
       "    <tr>\n",
       "      <th>2</th>\n",
       "      <td>1</td>\n",
       "      <td>3</td>\n",
       "      <td>0.321429</td>\n",
       "    </tr>\n",
       "    <tr>\n",
       "      <th>3</th>\n",
       "      <td>1</td>\n",
       "      <td>4</td>\n",
       "      <td>0.235441</td>\n",
       "    </tr>\n",
       "    <tr>\n",
       "      <th>4</th>\n",
       "      <td>1</td>\n",
       "      <td>5</td>\n",
       "      <td>0.203297</td>\n",
       "    </tr>\n",
       "  </tbody>\n",
       "</table>\n",
       "</div>"
      ],
      "text/plain": [
       "   userId1  userId2  correlation\n",
       "0        1        1     1.000000\n",
       "1        1        2     1.000000\n",
       "2        1        3     0.321429\n",
       "3        1        4     0.235441\n",
       "4        1        5     0.203297"
      ]
     },
     "execution_count": 40,
     "metadata": {},
     "output_type": "execute_result"
    }
   ],
   "source": [
    "corrs = corrs.unstack().rename_axis(['userId1', 'userId2']).reset_index()\n",
    "corrs.columns = ['userId1', 'userId2', 'correlation']\n",
    "\n",
    "corrs.head()"
   ]
  },
  {
   "cell_type": "code",
   "execution_count": 41,
   "id": "52ae26f3",
   "metadata": {},
   "outputs": [
    {
     "data": {
      "text/plain": [
       "(272484, 3)"
      ]
     },
     "execution_count": 41,
     "metadata": {},
     "output_type": "execute_result"
    }
   ],
   "source": [
    "corrs.shape"
   ]
  },
  {
   "cell_type": "code",
   "execution_count": 42,
   "id": "1ade4b0a",
   "metadata": {},
   "outputs": [
    {
     "data": {
      "text/html": [
       "<div>\n",
       "<style scoped>\n",
       "    .dataframe tbody tr th:only-of-type {\n",
       "        vertical-align: middle;\n",
       "    }\n",
       "\n",
       "    .dataframe tbody tr th {\n",
       "        vertical-align: top;\n",
       "    }\n",
       "\n",
       "    .dataframe thead th {\n",
       "        text-align: right;\n",
       "    }\n",
       "</style>\n",
       "<table border=\"1\" class=\"dataframe\">\n",
       "  <thead>\n",
       "    <tr style=\"text-align: right;\">\n",
       "      <th></th>\n",
       "      <th>userId1</th>\n",
       "      <th>userId2</th>\n",
       "      <th>correlation</th>\n",
       "    </tr>\n",
       "  </thead>\n",
       "  <tbody>\n",
       "    <tr>\n",
       "      <th>1</th>\n",
       "      <td>1</td>\n",
       "      <td>2</td>\n",
       "      <td>1.000000</td>\n",
       "    </tr>\n",
       "    <tr>\n",
       "      <th>2</th>\n",
       "      <td>1</td>\n",
       "      <td>3</td>\n",
       "      <td>0.321429</td>\n",
       "    </tr>\n",
       "    <tr>\n",
       "      <th>3</th>\n",
       "      <td>1</td>\n",
       "      <td>4</td>\n",
       "      <td>0.235441</td>\n",
       "    </tr>\n",
       "    <tr>\n",
       "      <th>4</th>\n",
       "      <td>1</td>\n",
       "      <td>5</td>\n",
       "      <td>0.203297</td>\n",
       "    </tr>\n",
       "    <tr>\n",
       "      <th>7</th>\n",
       "      <td>1</td>\n",
       "      <td>8</td>\n",
       "      <td>0.457143</td>\n",
       "    </tr>\n",
       "  </tbody>\n",
       "</table>\n",
       "</div>"
      ],
      "text/plain": [
       "   userId1  userId2  correlation\n",
       "1        1        2     1.000000\n",
       "2        1        3     0.321429\n",
       "3        1        4     0.235441\n",
       "4        1        5     0.203297\n",
       "7        1        8     0.457143"
      ]
     },
     "execution_count": 42,
     "metadata": {},
     "output_type": "execute_result"
    }
   ],
   "source": [
    "# Leave only valid user-user pairs with positive correlation\n",
    "pos_corrs = corrs[(corrs.correlation > 0) & (corrs.userId1 != corrs.userId2)]\n",
    "\n",
    "pos_corrs.head()"
   ]
  },
  {
   "cell_type": "code",
   "execution_count": 43,
   "id": "d8c788d9",
   "metadata": {},
   "outputs": [
    {
     "data": {
      "image/png": "[encoded data removed]",
      "text/plain": [
       "<Figure size 432x288 with 1 Axes>"
      ]
     },
     "metadata": {
      "needs_background": "dark"
     },
     "output_type": "display_data"
    }
   ],
   "source": [
    "sns.histplot(pos_corrs.correlation)\n",
    "\n",
    "plt.title('User correlation value distribution')\n",
    "plt.show()"
   ]
  },
  {
   "cell_type": "markdown",
   "id": "293522a5",
   "metadata": {},
   "source": [
    "There is a huge peak at **1** correlation, which may be due to users without any similaties (NaN values), so we may want to drop such correlations"
   ]
  },
  {
   "cell_type": "code",
   "execution_count": 54,
   "id": "1ce5bd96",
   "metadata": {},
   "outputs": [
    {
     "data": {
      "image/png": "[encoded data removed]",
      "text/plain": [
       "<Figure size 432x288 with 1 Axes>"
      ]
     },
     "metadata": {
      "needs_background": "dark"
     },
     "output_type": "display_data"
    }
   ],
   "source": [
    "pos_corrs = pos_corrs[pos_corrs.correlation < 1]\n",
    "\n",
    "sns.histplot(pos_corrs.correlation)\n",
    "\n",
    "plt.title('User correlation value distribution')\n",
    "plt.show()"
   ]
  },
  {
   "cell_type": "code",
   "execution_count": 51,
   "id": "0ca245ab",
   "metadata": {},
   "outputs": [
    {
     "name": "stdout",
     "output_type": "stream",
     "text": [
      "Mode:\t 0    0.5\n",
      "Name: correlation, dtype: float64\n"
     ]
    }
   ],
   "source": [
    "print('Mode:\\t', pos_corrs.correlation.mode())"
   ]
  },
  {
   "cell_type": "markdown",
   "id": "d06802d0",
   "metadata": {},
   "source": [
    "Mode of **0.5** correlation kinda makes sense"
   ]
  },
  {
   "cell_type": "code",
   "execution_count": 56,
   "id": "7b1d79e7",
   "metadata": {},
   "outputs": [],
   "source": [
    "# Get k-neighborhood of users who rated the chosen item \n",
    "def get_n_similar_users(user_id, item_id,\n",
    "                        n_neighbors=5, similarity_threshold=0.3) -> [np.array, np.array]:\n",
    "    \n",
    "    neighbors = pos_corrs[pos_corrs.userId1 == user_id] \\\n",
    "                .sort_values(by='correlation', ascending=False) # All neighbours  \n",
    "    \n",
    "    # Filter those who haven' watched the movie\n",
    "    valid_neighbors = np.intersect1d(\n",
    "        neighbors, ratings[ratings.movieId == item_id].userId\n",
    "    )\n",
    "    n_rates = neighbors[neighbors.userId2.isin(valid_neighbors)] \n",
    "\n",
    "    # Get most valid users\n",
    "    n_rates = n_rates[n_rates.correlation >= similarity_threshold]\n",
    "    \n",
    "    # Can still return less than k users (-_-)\n",
    "    if n_rates.shape[0] < n_neighbors:\n",
    "        n_rates = pd.concat(\n",
    "            (n_rates, \n",
    "             neighbors[~neighbors.userId2.isin(valid_neighbors)]),\n",
    "            axis=0\n",
    "        )\n",
    "        \n",
    "    return np.array(n_rates.head(n_neighbors).userId2), \\\n",
    "            np.array(n_rates.head(n_neighbors).correlation)\n",
    "\n",
    "\n",
    "# Predict item rating by user and \n",
    "def item_rating_prediction(user_id, item_id, \n",
    "                           neighbor_ids, neighbor_weights) -> float:\n",
    "    \n",
    "    mean_rating = ratings[ratings.userId == user_id].rating.mean()\n",
    "    neighbor_means = np.array([ratings[ratings.userId == id_].rating.mean() for id_ in neighbor_ids])\n",
    "    \n",
    "    neighbor_ratings = []\n",
    "    for i, id_ in enumerate(neighbor_ids):\n",
    "        df = ratings[(ratings.userId == id_) & (ratings.movieId == item_id)]\n",
    "        \n",
    "        if df.size != 0:\n",
    "            neighbor_ratings.append(df.iloc[0].rating)\n",
    "        else:\n",
    "            neighbor_ratings.append(neighbor_means[i])\n",
    "            \n",
    "    neighbor_ratings = np.array(neighbor_ratings)\n",
    "\n",
    "    if neighbor_ratings.size == 0:\n",
    "        return mean_rating\n",
    "    \n",
    "    # 1st method\n",
    "    return mean_rating + np.sum(neighbor_weights * (neighbor_ratings - neighbor_means)) \\\n",
    "            / np.sum(np.abs(neighbor_weights))\n",
    "\n",
    "    # 2nd method\n",
    "#     return np.sum(neighbor_weights * neighbor_ratings) / np.sum(np.abs(neighbor_weights))\n",
    "\n",
    "\n",
    "def make_single_prediction(user_id, item_id, n_neighbors=10\n",
    "                           , similarity_threshold=0.3) -> [float, float]:\n",
    "    \n",
    "    neighbor_ids, neighbor_weights = get_n_similar_users(user_id, item_id, n_neighbors\n",
    "                                                         , similarity_threshold)\n",
    "    \n",
    "    return item_id, item_rating_prediction(user_id, item_id, neighbor_ids, neighbor_weights)\n",
    "\n",
    "    \n",
    "def make_prediction(user_id, n_movies, movie_sample_size=500,\n",
    "                    n_neighbors=50, similarity_threshold=0.3, rec_threshold=3.5):\n",
    "    \n",
    "    items_to_recommend = np.array([])\n",
    "    ratings = np.array([])\n",
    "    for item_id in movies.sample(movie_sample_size).movieId:\n",
    "        pred = make_single_prediction(200, item_id, n_neighbors=10)\n",
    "        \n",
    "        if pred[1] >= rec_threshold:\n",
    "            items_to_recommend = np.append(items_to_recommend, pred[0])\n",
    "            ratings = np.append(ratings, pred[1])\n",
    "    \n",
    "    items_to_recommend = items_to_recommend[np.argsort(-ratings)]\n",
    "    ratings.sort()\n",
    "    \n",
    "    return items_to_recommend[:n_movies], ratings[::-1][:n_movies]"
   ]
  },
  {
   "cell_type": "code",
   "execution_count": 57,
   "id": "6e9e2302",
   "metadata": {},
   "outputs": [
    {
     "data": {
      "text/plain": [
       "(10, 3.8431212444723815)"
      ]
     },
     "execution_count": 57,
     "metadata": {},
     "output_type": "execute_result"
    }
   ],
   "source": [
    "make_single_prediction(200, 10, n_neighbors=10)"
   ]
  },
  {
   "cell_type": "code",
   "execution_count": 59,
   "id": "19eda897",
   "metadata": {},
   "outputs": [
    {
     "data": {
      "text/plain": [
       "(array([ 110.,  318., 3421., 1194., 1663., 2716.,  589., 1247., 7361.,\n",
       "        3072.]),\n",
       " array([4.86264751, 4.44754834, 4.10196814, 4.10196814, 4.10196814,\n",
       "        4.09234392, 4.07006559, 4.04367735, 4.02287638, 4.01133825]))"
      ]
     },
     "execution_count": 59,
     "metadata": {},
     "output_type": "execute_result"
    }
   ],
   "source": [
    "make_prediction(120, 10, 1000, rec_threshold=4)"
   ]
  },
  {
   "cell_type": "code",
   "execution_count": 60,
   "id": "fd14cdc9",
   "metadata": {},
   "outputs": [
    {
     "data": {
      "text/plain": [
       "(array([  733.,   457.,   161.,   165.,  1221., 46578.,  5014.,  5618.,\n",
       "         2907.,   778.]),\n",
       " array([4.39524528, 4.28435132, 4.27979329, 4.09200421, 4.08147619,\n",
       "        4.07141533, 4.04603446, 4.0389619 , 4.02678854, 4.00240311]))"
      ]
     },
     "execution_count": 60,
     "metadata": {},
     "output_type": "execute_result"
    }
   ],
   "source": [
    "make_prediction(120, 10, 1000, rec_threshold=4)"
   ]
  },
  {
   "cell_type": "code",
   "execution_count": 61,
   "id": "fa2a42d5",
   "metadata": {},
   "outputs": [
    {
     "name": "stdout",
     "output_type": "stream",
     "text": [
      "0.9039207189184608\n"
     ]
    }
   ],
   "source": [
    "from sklearn.metrics import mean_squared_error\n",
    "\n",
    "predictions = []\n",
    "\n",
    "for i, row in test.iterrows():\n",
    "    predictions.append(make_single_prediction(row.userId, row.movieId)[1])\n",
    "    \n",
    "print(mean_squared_error(test.rating, predictions, squared=False))"
   ]
  },
  {
   "cell_type": "code",
   "execution_count": 62,
   "id": "2bee5a1f",
   "metadata": {},
   "outputs": [
    {
     "name": "stdout",
     "output_type": "stream",
     "text": [
      "Accuracy:\t 0.7037\n",
      "Precision:\t 0.7736810292720836\n",
      "Recall:\t 0.7305340399510803\n",
      "F1-score:\t 0.75148871928206\n"
     ]
    }
   ],
   "source": [
    "from sklearn.metrics import accuracy_score, f1_score, precision_score, recall_score\n",
    "\n",
    "real_int = test.rating >= 3.5\n",
    "pred_int = np.array(predictions) >= 3.5\n",
    "\n",
    "print('Accuracy:\\t', accuracy_score(real_int, pred_int))\n",
    "print('Precision:\\t', precision_score(real_int, pred_int))\n",
    "print('Recall:\\t', recall_score(real_int, pred_int))\n",
    "print('F1-score:\\t', f1_score(real_int, pred_int))"
   ]
  },
  {
   "cell_type": "code",
   "execution_count": 63,
   "id": "9159ecb4",
   "metadata": {},
   "outputs": [
    {
     "name": "stdout",
     "output_type": "stream",
     "text": [
      "PR-AUC:\t 0.8347325346115819\n"
     ]
    },
    {
     "data": {
      "image/png": "[encoded data removed]",
      "text/plain": [
       "<Figure size 432x288 with 1 Axes>"
      ]
     },
     "metadata": {
      "needs_background": "dark"
     },
     "output_type": "display_data"
    }
   ],
   "source": [
    "from sklearn.metrics import precision_recall_curve, PrecisionRecallDisplay, auc\n",
    "\n",
    "pr, rec, thr = precision_recall_curve(real_int, pred_int)\n",
    "\n",
    "print('PR-AUC:\\t', auc(rec, pr))\n",
    "\n",
    "PrecisionRecallDisplay(precision=pr, recall=rec).plot()\n",
    "\n",
    "# plt.ylim(0, 1)\n",
    "# plt.xlim(0, 1)\n",
    "\n",
    "plt.show()"
   ]
  },
  {
   "cell_type": "markdown",
   "id": "0a064594",
   "metadata": {},
   "source": [
    "This is a slight PR-AUC improvement "
   ]
  },
  {
   "cell_type": "markdown",
   "id": "eb613079",
   "metadata": {},
   "source": [
    "#### Item-item"
   ]
  },
  {
   "cell_type": "markdown",
   "id": "131af8cb",
   "metadata": {},
   "source": [
    "Абсолютно аналогично User-user"
   ]
  },
  {
   "cell_type": "markdown",
   "id": "47e97630",
   "metadata": {},
   "source": [
    "1) $$ rating(item_k, user_m) = r_k^{mean} + \\frac{\\sum_{item_i \\in I(item_k)}{(r_{user_m}(item_i) - r_{item_i}^{mean}) \\cdot sim(item_k, item_i)}}{\\sum_{item_i \\in I(item_k)}{|sim(item_k, item_i)|}}$$\n",
    "\n",
    "2) $$ rating(item_k, user_m) = \\frac{\\sum_{item_i \\in I(item_k)}{r_{user_m}(item_i) \\cdot sim(item_k, item_i)}}{\\sum_{item_i \\in I(item_k)}{|sim(item_k, item_i)|}}$$"
   ]
  },
  {
   "cell_type": "code",
   "execution_count": null,
   "id": "5c1bd438",
   "metadata": {},
   "outputs": [],
   "source": [
    "pivot = ratings.pivot_table(index='userId', columns='movieId', values='rating')\n",
    "\n",
    "pivot.head()"
   ]
  },
  {
   "cell_type": "code",
   "execution_count": null,
   "id": "780de1a8",
   "metadata": {},
   "outputs": [],
   "source": [
    "pivot.shape"
   ]
  },
  {
   "cell_type": "code",
   "execution_count": null,
   "id": "ade3bb6e",
   "metadata": {},
   "outputs": [],
   "source": [
    "corrs = pivot.corr()\n",
    "\n",
    "corrs.head()"
   ]
  },
  {
   "cell_type": "code",
   "execution_count": null,
   "id": "768aa6cd",
   "metadata": {},
   "outputs": [],
   "source": [
    "corrs = corrs.unstack().rename_axis(['movieId1', 'movieId2']).reset_index()\n",
    "corrs.columns = ['movieId1', 'movieId2', 'rating']\n",
    "\n",
    "corrs.head()"
   ]
  },
  {
   "cell_type": "markdown",
   "id": "2c627d7c",
   "metadata": {},
   "source": [
    "Все последующие шаги аналогичны **User-user** фильтрации"
   ]
  },
  {
   "cell_type": "code",
   "execution_count": null,
   "id": "316eb6ae",
   "metadata": {},
   "outputs": [],
   "source": []
  },
  {
   "cell_type": "markdown",
   "id": "3e8fca6c",
   "metadata": {},
   "source": [
    "### Alternating least squares (ALS)"
   ]
  },
  {
   "cell_type": "markdown",
   "id": "a3948a1f",
   "metadata": {},
   "source": [
    "Идея: хотим кодировать каждого юзера и товар в векторы $p_i$ и $q_j$ длины *m* так, чтобы $$ <p_i \\cdot q_j> = r_{p_i}(q_j) $$\n",
    "\n",
    "Также мы знаем матрицу *R* (история оценок пользователей)\n",
    "$$ P^T \\cdot Q \\approx R$$  \n",
    "\n",
    "Тогда хотим минимизизировать ошибку:\n",
    "\n",
    "$$\\sum_{u, i: \\quad r_u{i} \\in R} (r_u{i} - b_u - b_i - < p_u \\cdot q_i>)^2 \\rightarrow \\min_{b_u, b_i, p_u, p_i}$$\n",
    "\n",
    "* К ней еще можно добавить регуляризацию\n",
    "\n",
    "То есть проходим по всем парам пользователь-товар, для которых есть оценка и далее минимизируем такую сумму квадратов, где $b_u$ и $b_i$ - это свободные члены (свои для каждого пользователя и каждого товара) \n",
    "\n",
    "\n",
    "\n",
    "Такая функция - это резня. Довольно много параметров и экстремумов\n",
    "\n",
    "1. Можно попробовать привычным градиентным спуском - например, стохастическим (на практике результат плохой из-за большого числа экстремумов)\n",
    "2. А можно **ALS**"
   ]
  },
  {
   "cell_type": "markdown",
   "id": "6358710e",
   "metadata": {},
   "source": [
    "#### Алгоритм ALS\n",
    "1. Инициализация матриц *P, Q*\n",
    "2. Фиксируем эмбеддинги одной из матриц - например, P \n",
    "\n",
    "    То есть в функционал ошибки пойдут просто числа из p_u \n",
    "<!--     (свободные коэффициенты все так же изменяются) -->\n",
    "    \n",
    "    Минимизируем получившийся функционал ошибки и получаем локальный оптимум для q_i\n",
    "3. Фиксируем другую матрицу - делаем то же\n",
    "4. Повторяем до критерия останова\n",
    "    "
   ]
  },
  {
   "cell_type": "code",
   "execution_count": null,
   "id": "857f6a47",
   "metadata": {},
   "outputs": [],
   "source": [
    "!pip install implicit"
   ]
  },
  {
   "cell_type": "code",
   "execution_count": null,
   "id": "2fd87651",
   "metadata": {},
   "outputs": [],
   "source": [
    "ratings_ = ratings.drop('timestamp', axis=1)\n",
    "\n",
    "print(csr_matrix(ratings_)[0])"
   ]
  },
  {
   "cell_type": "code",
   "execution_count": null,
   "id": "b34f144f",
   "metadata": {},
   "outputs": [],
   "source": [
    "!export MKL_NUM_THREADS=1"
   ]
  },
  {
   "cell_type": "code",
   "execution_count": null,
   "id": "bfef65e5",
   "metadata": {},
   "outputs": [],
   "source": [
    "from implicit.als import AlternatingLeastSquares\n",
    "\n",
    "model = AlternatingLeastSquares(factors=5)\n",
    "data = csr_matrix(ratings_)\n",
    "\n",
    "# model.fit(data)\n",
    "\n",
    "# user_items = item_user_data.T.tocsr()\n",
    "# recommendations = model.recommend(userid, user_items)\n",
    "\n",
    "# # find related items\n",
    "# related = model.similar_items(itemid)"
   ]
  },
  {
   "cell_type": "code",
   "execution_count": null,
   "id": "3ab50943",
   "metadata": {},
   "outputs": [],
   "source": [
    "model.fit(data)"
   ]
  },
  {
   "cell_type": "code",
   "execution_count": null,
   "id": "980435cc",
   "metadata": {},
   "outputs": [],
   "source": []
  }
 ],
 "metadata": {
  "kernelspec": {
   "display_name": "Python 3 (ipykernel)",
   "language": "python",
   "name": "python3"
  },
  "language_info": {
   "codemirror_mode": {
    "name": "ipython",
    "version": 3
   },
   "file_extension": ".py",
   "mimetype": "text/x-python",
   "name": "python",
   "nbconvert_exporter": "python",
   "pygments_lexer": "ipython3",
   "version": "3.9.7"
  }
 },
 "nbformat": 4,
 "nbformat_minor": 5
}
